{
 "cells": [
  {
   "cell_type": "markdown",
   "id": "24edd331",
   "metadata": {},
   "source": [
    "1. Utilizando Python e Numpy, implemente uma Multi-layer Perceptron (MLP) com uma camada oculta de largura 2 (i.e., uma Perceptron com duas unidades ocultas), que aproxima função “ou exclusivo” (XOR) definida como XOR : {0, 1}² → {0, 1}."
   ]
  },
  {
   "cell_type": "code",
   "execution_count": 1,
   "id": "2a49ab10",
   "metadata": {},
   "outputs": [],
   "source": [
    "import numpy as np"
   ]
  },
  {
   "cell_type": "markdown",
   "id": "f952efca",
   "metadata": {},
   "source": [
    "2. Considere que apenas a camada oculta tem uma função de ativação (adote ReLU) (i.e., a camada de saída tem\n",
    "ativação identidade). Otimize a MLP com uma função de perda que penaliza o quadrado do erro de estimação."
   ]
  },
  {
   "cell_type": "code",
   "execution_count": null,
   "id": "0393dd87",
   "metadata": {},
   "outputs": [],
   "source": [
    "def ReLU(x):\n",
    "    return max(0, x)\n",
    "\n",
    "def I(x):\n",
    "    return x"
   ]
  }
 ],
 "metadata": {
  "kernelspec": {
   "display_name": ".venv",
   "language": "python",
   "name": "python3"
  },
  "language_info": {
   "codemirror_mode": {
    "name": "ipython",
    "version": 3
   },
   "file_extension": ".py",
   "mimetype": "text/x-python",
   "name": "python",
   "nbconvert_exporter": "python",
   "pygments_lexer": "ipython3",
   "version": "3.12.3"
  }
 },
 "nbformat": 4,
 "nbformat_minor": 5
}
